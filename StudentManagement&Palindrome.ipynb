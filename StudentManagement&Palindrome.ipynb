{
 "cells": [
  {
   "cell_type": "code",
   "execution_count": 2,
   "id": "0b5e8cd7-7e2f-4ad4-9132-71ae775feb91",
   "metadata": {},
   "outputs": [
    {
     "name": "stdout",
     "output_type": "stream",
     "text": [
      "\n",
      "Enter information for student 1:\n"
     ]
    },
    {
     "name": "stdin",
     "output_type": "stream",
     "text": [
      "Enter student name:  nick\n",
      "Enter student age:  22\n",
      "Enter grade for course 1:  16\n",
      "Enter grade for course 2:  17\n",
      "Enter grade for course 3:  18\n"
     ]
    },
    {
     "name": "stdout",
     "output_type": "stream",
     "text": [
      "\n",
      "Enter information for student 2:\n"
     ]
    },
    {
     "name": "stdin",
     "output_type": "stream",
     "text": [
      "Enter student name:  kyle\n",
      "Enter student age:  12\n",
      "Enter grade for course 1:  14\n",
      "Enter grade for course 2:  15\n",
      "Enter grade for course 3:  14\n"
     ]
    },
    {
     "name": "stdout",
     "output_type": "stream",
     "text": [
      "\n",
      "Enter information for student 3:\n"
     ]
    },
    {
     "name": "stdin",
     "output_type": "stream",
     "text": [
      "Enter student name:  lola\n",
      "Enter student age:  3\n",
      "Enter grade for course 1:  45\n",
      "Enter grade for course 2:  12\n",
      "Enter grade for course 3:  12\n"
     ]
    },
    {
     "name": "stdout",
     "output_type": "stream",
     "text": [
      "\n",
      "===== All Students =====\n",
      "\n",
      "--- Student Information ---\n",
      "Name: jnick\n",
      "Age: 22\n",
      "Grades: [16.0, 17.0, 18.0]\n",
      "Average Grade: 17.00\n",
      "\n",
      "--- Student Information ---\n",
      "Name: jkyle\n",
      "Age: 12\n",
      "Grades: [14.0, 15.0, 14.0]\n",
      "Average Grade: 14.33\n",
      "\n",
      "--- Student Information ---\n",
      "Name: jlola\n",
      "Age: 3\n",
      "Grades: [45.0, 12.0, 12.0]\n",
      "Average Grade: 23.00\n"
     ]
    }
   ],
   "source": [
    "def input_student_info():\n",
    "    name = input(\"Enter student name: \")\n",
    "    age = int(input(\"Enter student age: \"))\n",
    "    grades = []\n",
    "    for i in range(3):\n",
    "        mark = float(input(f\"Enter grade for course {i+1}: \"))\n",
    "        grades.append(mark)\n",
    "    return {\"name\": name, \"age\": age, \"grades\": grades}\n",
    "\n",
    "def calculate_average(grades):\n",
    "    return sum(grades) / len(grades)\n",
    "\n",
    "def display_student_info(student):\n",
    "    print(\"\\n--- Student Information ---\")\n",
    "    print(f\"Name: j{student['name']}\")\n",
    "    print(f\"Age: {student['age']}\")\n",
    "    print(f\"Grades: {student['grades']}\")\n",
    "    print(f\"Average Grade: {student['average']:.2f}\")\n",
    "\n",
    "def student_management_system():\n",
    "    students = []\n",
    "\n",
    "    for i in range(3): \n",
    "        print(f\"\\nEnter information for student {i+1}:\")\n",
    "        student = input_student_info()\n",
    "        student[\"average\"] = calculate_average(student[\"grades\"])\n",
    "        students.append(student)\n",
    "\n",
    "    print(\"\\n===== All Students =====\")\n",
    "    for student in students:\n",
    "        display_student_info(student)\n",
    "\n",
    "# Run the system\n",
    "student_management_system()\n",
    "\n"
   ]
  },
  {
   "cell_type": "code",
   "execution_count": 3,
   "id": "db9af1e4-b432-458a-82cb-5bf424a57829",
   "metadata": {},
   "outputs": [
    {
     "name": "stdin",
     "output_type": "stream",
     "text": [
      "Enter a string:  lol\n"
     ]
    },
    {
     "name": "stdout",
     "output_type": "stream",
     "text": [
      "Yes, it is a palindrome\n"
     ]
    }
   ],
   "source": [
    "def check_palindrome():\n",
    "    text = input(\"Enter a string: \")\n",
    "    if text == text[::-1]:\n",
    "        print(\"Yes, it is a palindrome\")\n",
    "    else:\n",
    "        print(\"No, it is not a palindrome\")\n",
    "\n",
    "# Run the palindrome checker\n",
    "check_palindrome()\n"
   ]
  },
  {
   "cell_type": "code",
   "execution_count": null,
   "id": "a0d4637a-157f-4cef-94be-f412cfd9f18d",
   "metadata": {},
   "outputs": [],
   "source": []
  }
 ],
 "metadata": {
  "kernelspec": {
   "display_name": "Python 3 (ipykernel)",
   "language": "python",
   "name": "python3"
  },
  "language_info": {
   "codemirror_mode": {
    "name": "ipython",
    "version": 3
   },
   "file_extension": ".py",
   "mimetype": "text/x-python",
   "name": "python",
   "nbconvert_exporter": "python",
   "pygments_lexer": "ipython3",
   "version": "3.13.5"
  }
 },
 "nbformat": 4,
 "nbformat_minor": 5
}
